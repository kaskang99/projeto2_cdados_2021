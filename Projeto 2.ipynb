{
 "cells": [
  {
   "cell_type": "markdown",
   "metadata": {},
   "source": [
    "___\n",
    "# Projeto 2 - Ciência dos Dados 2020.2\n",
    "Grupo: Lucas Kang, Lucas Franco Florentino\n",
    "___"
   ]
  },
  {
   "cell_type": "markdown",
   "metadata": {},
   "source": [
    "# Descrição do projeto\n",
    "\n",
    "\n",
    "\n",
    "O aumento no número de suícios de 200% a 400% nos últimos 20 anos vem se tornando um problema de saúde pública em vários países ao redor do mundo. Dessa forma, várias pesquisas foram desenvolvidas com a intenção de entender esse problema e suas relações externas. Quando relacionado a idade e o sexo com a frequência dos casos de suicídio, existe uma variação interessante de país para país, além disso, no caso dos homens, ocorrem geralmente entre 25 e 35 anos, já nas mulheres entre 18 e 30 anos. Existem alguns indicadores de suicídio, porém, a maioria deles referem ao desemprego, situação financeira do país e consequentemente a presença de doenças psiquiátricas e crônicas. \n",
    "\n",
    "   Dessa forma, o projeto tem como função principal observar o relacionamento entre vários indicadores como idade, sexo, situação econômica do país e a geração, com o número de suicídios de um país. Dessa forma, será examinado os resultados e as conexões com o número de suicídios. "
   ]
  },
  {
   "cell_type": "markdown",
   "metadata": {},
   "source": [
    "## Objetivo do projeto:\n",
    "\n",
    "- A partir de diversos fatores como o ano, sexo, faixa etária e situação econômica de um país, é possível prever a quantidade de pessoas que irão cometer suicídio neste ano?  \n",
    "- O target é quantitativo, já que o objetivo é prever uma informação numérica."
   ]
  },
  {
   "cell_type": "markdown",
   "metadata": {},
   "source": [
    "### Importando as bibliotecas:"
   ]
  },
  {
   "cell_type": "code",
   "execution_count": 41,
   "metadata": {},
   "outputs": [],
   "source": [
    "import pandas as pd  \n",
    "import matplotlib.pyplot as plt\n",
    "import numpy as np\n",
    "from math import *\n",
    "from scipy import *\n",
    "from sklearn import linear_model\n",
    "from sklearn.model_selection import train_test_split\n",
    "from scipy import stats\n",
    "from sklearn.ensemble import RandomForestRegressor \n",
    "from sklearn.metrics import r2_score\n",
    "from pprint import pprint\n",
    "from sklearn.model_selection import RandomizedSearchCV\n",
    "from sklearn.model_selection import GridSearchCV"
   ]
  },
  {
   "cell_type": "markdown",
   "metadata": {},
   "source": [
    "### Importando a base de dados:"
   ]
  },
  {
   "cell_type": "code",
   "execution_count": 3,
   "metadata": {},
   "outputs": [],
   "source": [
    "suicidios = pd.read_csv('suicide_rates.csv')"
   ]
  },
  {
   "cell_type": "markdown",
   "metadata": {},
   "source": [
    "# apagar depois\n",
    "\n",
    "## coisas a serem estudadas\n",
    "\n",
    "- multiple linear regression\n",
    "- random forest regression\n",
    "- variável qualitativa precisa ser transformada em dummies\n",
    "- pd.get_dummies() -- estudar e ler a documentação do comando"
   ]
  },
  {
   "cell_type": "markdown",
   "metadata": {},
   "source": [
    "# Explicando o dataset:"
   ]
  },
  {
   "cell_type": "markdown",
   "metadata": {},
   "source": [
    "A base de dados suicide_rates.csv contém um conjunto de informações com cerca de 102 países ao passar de 33 anos. Dessa forma, o código irá analisar uma base de treinamento, e depois, aplicar um teste nos classificadores, onde um deles tem como princípio a regressão múltipla e o outro de #aaaaaa, para então provar sua eficiência em prever a quantidade de suicídios em um ano. \n",
    "A base de dados contém os seguintes dados:\n",
    "\n",
    "- Country: País\n",
    "- Year: Ano\n",
    "- Sex: Sexo\n",
    "- Age: Idade\n",
    "- Suicides_no: Número de suicídios no país, no ano, no sexo e na faixa etária presente na mesma linha\n",
    "- Population: População do país, do ano, do sexo e da faixa etária presente na mesma linha\n",
    "- Suicides/100kpop: Taxa de suicideos a cada 100.000 pessoas com os filtros presentes na mesma linha\n",
    "- Country-year: País e ano\n",
    "- HDI for year: Índice de desenvolvimento humano por ano\n",
    "- Gdp_for_year (): Produto interno bruto por ano em dolar\n",
    "- Gdp_per_capita (): Produto interno bruto per capita em dolar\n",
    "- Generation: Geração do indivíduo\n",
    "\n",
    "\n",
    "Nossa base de dados:\n",
    "- "
   ]
  },
  {
   "cell_type": "code",
   "execution_count": 4,
   "metadata": {},
   "outputs": [
    {
     "output_type": "execute_result",
     "data": {
      "text/plain": [
       "   country  year     sex          age  suicides_no  population  \\\n",
       "0  Albania  1987    male  15-24 years           21      312900   \n",
       "1  Albania  1987    male  35-54 years           16      308000   \n",
       "2  Albania  1987  female  15-24 years           14      289700   \n",
       "3  Albania  1987    male    75+ years            1       21800   \n",
       "4  Albania  1987    male  25-34 years            9      274300   \n",
       "\n",
       "   suicides/100k pop country-year  HDI for year  gdp_for_year ($)   \\\n",
       "0               6.71  Albania1987           NaN      2,156,624,900   \n",
       "1               5.19  Albania1987           NaN      2,156,624,900   \n",
       "2               4.83  Albania1987           NaN      2,156,624,900   \n",
       "3               4.59  Albania1987           NaN      2,156,624,900   \n",
       "4               3.28  Albania1987           NaN      2,156,624,900   \n",
       "\n",
       "   gdp_per_capita ($)       generation  \n",
       "0                 796     Generation X  \n",
       "1                 796           Silent  \n",
       "2                 796     Generation X  \n",
       "3                 796  G.I. Generation  \n",
       "4                 796          Boomers  "
      ],
      "text/html": "<div>\n<style scoped>\n    .dataframe tbody tr th:only-of-type {\n        vertical-align: middle;\n    }\n\n    .dataframe tbody tr th {\n        vertical-align: top;\n    }\n\n    .dataframe thead th {\n        text-align: right;\n    }\n</style>\n<table border=\"1\" class=\"dataframe\">\n  <thead>\n    <tr style=\"text-align: right;\">\n      <th></th>\n      <th>country</th>\n      <th>year</th>\n      <th>sex</th>\n      <th>age</th>\n      <th>suicides_no</th>\n      <th>population</th>\n      <th>suicides/100k pop</th>\n      <th>country-year</th>\n      <th>HDI for year</th>\n      <th>gdp_for_year ($)</th>\n      <th>gdp_per_capita ($)</th>\n      <th>generation</th>\n    </tr>\n  </thead>\n  <tbody>\n    <tr>\n      <th>0</th>\n      <td>Albania</td>\n      <td>1987</td>\n      <td>male</td>\n      <td>15-24 years</td>\n      <td>21</td>\n      <td>312900</td>\n      <td>6.71</td>\n      <td>Albania1987</td>\n      <td>NaN</td>\n      <td>2,156,624,900</td>\n      <td>796</td>\n      <td>Generation X</td>\n    </tr>\n    <tr>\n      <th>1</th>\n      <td>Albania</td>\n      <td>1987</td>\n      <td>male</td>\n      <td>35-54 years</td>\n      <td>16</td>\n      <td>308000</td>\n      <td>5.19</td>\n      <td>Albania1987</td>\n      <td>NaN</td>\n      <td>2,156,624,900</td>\n      <td>796</td>\n      <td>Silent</td>\n    </tr>\n    <tr>\n      <th>2</th>\n      <td>Albania</td>\n      <td>1987</td>\n      <td>female</td>\n      <td>15-24 years</td>\n      <td>14</td>\n      <td>289700</td>\n      <td>4.83</td>\n      <td>Albania1987</td>\n      <td>NaN</td>\n      <td>2,156,624,900</td>\n      <td>796</td>\n      <td>Generation X</td>\n    </tr>\n    <tr>\n      <th>3</th>\n      <td>Albania</td>\n      <td>1987</td>\n      <td>male</td>\n      <td>75+ years</td>\n      <td>1</td>\n      <td>21800</td>\n      <td>4.59</td>\n      <td>Albania1987</td>\n      <td>NaN</td>\n      <td>2,156,624,900</td>\n      <td>796</td>\n      <td>G.I. Generation</td>\n    </tr>\n    <tr>\n      <th>4</th>\n      <td>Albania</td>\n      <td>1987</td>\n      <td>male</td>\n      <td>25-34 years</td>\n      <td>9</td>\n      <td>274300</td>\n      <td>3.28</td>\n      <td>Albania1987</td>\n      <td>NaN</td>\n      <td>2,156,624,900</td>\n      <td>796</td>\n      <td>Boomers</td>\n    </tr>\n  </tbody>\n</table>\n</div>"
     },
     "metadata": {},
     "execution_count": 4
    }
   ],
   "source": [
    "suicidios.head(5)"
   ]
  },
  {
   "cell_type": "markdown",
   "metadata": {},
   "source": [
    "---\n",
    "# Organizando os dados\n",
    "\n",
    "Os dados foram organizados em novas colunas e alguns valores foram traduzidos para números que possa ser utilizados pelo modelo para realizar a predição.\n",
    "Algumas destas novas colunas foram:\n",
    "- criação de dummies para armazenar a faixa etária de cada linha;\n",
    "- criação da coluna de classificação econômica;\n",
    "- traduzir a coluna de geração de valores categóricos para valores numéricos;\n",
    "- traduzir a coluna de sexo de valores categóricos para valores numéricos."
   ]
  },
  {
   "cell_type": "code",
   "execution_count": 5,
   "metadata": {},
   "outputs": [
    {
     "output_type": "execute_result",
     "data": {
      "text/plain": [
       "   country  year     sex          age  suicides_no  population  \\\n",
       "0  Albania  1987    male  15-24 years           21      312900   \n",
       "1  Albania  1987    male  35-54 years           16      308000   \n",
       "2  Albania  1987  female  15-24 years           14      289700   \n",
       "3  Albania  1987    male    75+ years            1       21800   \n",
       "4  Albania  1987    male  25-34 years            9      274300   \n",
       "\n",
       "   suicides/100k pop country-year  HDI for year  gdp_for_year ($)   \\\n",
       "0               6.71  Albania1987           NaN      2,156,624,900   \n",
       "1               5.19  Albania1987           NaN      2,156,624,900   \n",
       "2               4.83  Albania1987           NaN      2,156,624,900   \n",
       "3               4.59  Albania1987           NaN      2,156,624,900   \n",
       "4               3.28  Albania1987           NaN      2,156,624,900   \n",
       "\n",
       "   gdp_per_capita ($)       generation  15-24 years  25-34 years  35-54 years  \\\n",
       "0                 796     Generation X            1            0            0   \n",
       "1                 796           Silent            0            0            1   \n",
       "2                 796     Generation X            1            0            0   \n",
       "3                 796  G.I. Generation            0            0            0   \n",
       "4                 796          Boomers            0            1            0   \n",
       "\n",
       "   5-14 years  55-74 years  75+ years  \n",
       "0           0            0          0  \n",
       "1           0            0          0  \n",
       "2           0            0          0  \n",
       "3           0            0          1  \n",
       "4           0            0          0  "
      ],
      "text/html": "<div>\n<style scoped>\n    .dataframe tbody tr th:only-of-type {\n        vertical-align: middle;\n    }\n\n    .dataframe tbody tr th {\n        vertical-align: top;\n    }\n\n    .dataframe thead th {\n        text-align: right;\n    }\n</style>\n<table border=\"1\" class=\"dataframe\">\n  <thead>\n    <tr style=\"text-align: right;\">\n      <th></th>\n      <th>country</th>\n      <th>year</th>\n      <th>sex</th>\n      <th>age</th>\n      <th>suicides_no</th>\n      <th>population</th>\n      <th>suicides/100k pop</th>\n      <th>country-year</th>\n      <th>HDI for year</th>\n      <th>gdp_for_year ($)</th>\n      <th>gdp_per_capita ($)</th>\n      <th>generation</th>\n      <th>15-24 years</th>\n      <th>25-34 years</th>\n      <th>35-54 years</th>\n      <th>5-14 years</th>\n      <th>55-74 years</th>\n      <th>75+ years</th>\n    </tr>\n  </thead>\n  <tbody>\n    <tr>\n      <th>0</th>\n      <td>Albania</td>\n      <td>1987</td>\n      <td>male</td>\n      <td>15-24 years</td>\n      <td>21</td>\n      <td>312900</td>\n      <td>6.71</td>\n      <td>Albania1987</td>\n      <td>NaN</td>\n      <td>2,156,624,900</td>\n      <td>796</td>\n      <td>Generation X</td>\n      <td>1</td>\n      <td>0</td>\n      <td>0</td>\n      <td>0</td>\n      <td>0</td>\n      <td>0</td>\n    </tr>\n    <tr>\n      <th>1</th>\n      <td>Albania</td>\n      <td>1987</td>\n      <td>male</td>\n      <td>35-54 years</td>\n      <td>16</td>\n      <td>308000</td>\n      <td>5.19</td>\n      <td>Albania1987</td>\n      <td>NaN</td>\n      <td>2,156,624,900</td>\n      <td>796</td>\n      <td>Silent</td>\n      <td>0</td>\n      <td>0</td>\n      <td>1</td>\n      <td>0</td>\n      <td>0</td>\n      <td>0</td>\n    </tr>\n    <tr>\n      <th>2</th>\n      <td>Albania</td>\n      <td>1987</td>\n      <td>female</td>\n      <td>15-24 years</td>\n      <td>14</td>\n      <td>289700</td>\n      <td>4.83</td>\n      <td>Albania1987</td>\n      <td>NaN</td>\n      <td>2,156,624,900</td>\n      <td>796</td>\n      <td>Generation X</td>\n      <td>1</td>\n      <td>0</td>\n      <td>0</td>\n      <td>0</td>\n      <td>0</td>\n      <td>0</td>\n    </tr>\n    <tr>\n      <th>3</th>\n      <td>Albania</td>\n      <td>1987</td>\n      <td>male</td>\n      <td>75+ years</td>\n      <td>1</td>\n      <td>21800</td>\n      <td>4.59</td>\n      <td>Albania1987</td>\n      <td>NaN</td>\n      <td>2,156,624,900</td>\n      <td>796</td>\n      <td>G.I. Generation</td>\n      <td>0</td>\n      <td>0</td>\n      <td>0</td>\n      <td>0</td>\n      <td>0</td>\n      <td>1</td>\n    </tr>\n    <tr>\n      <th>4</th>\n      <td>Albania</td>\n      <td>1987</td>\n      <td>male</td>\n      <td>25-34 years</td>\n      <td>9</td>\n      <td>274300</td>\n      <td>3.28</td>\n      <td>Albania1987</td>\n      <td>NaN</td>\n      <td>2,156,624,900</td>\n      <td>796</td>\n      <td>Boomers</td>\n      <td>0</td>\n      <td>1</td>\n      <td>0</td>\n      <td>0</td>\n      <td>0</td>\n      <td>0</td>\n    </tr>\n  </tbody>\n</table>\n</div>"
     },
     "metadata": {},
     "execution_count": 5
    }
   ],
   "source": [
    "faixa_etaria = pd.get_dummies(suicidios['age'])\n",
    "suicidios = pd.concat([suicidios, faixa_etaria], axis = 1)\n",
    "suicidios.head()"
   ]
  },
  {
   "cell_type": "code",
   "execution_count": 6,
   "metadata": {},
   "outputs": [],
   "source": [
    "# comparar gdp_per_capita pra determinar se o país naquele ano era considerado Rico, Em desenvolvimento, ou Pobre (e.g: resultado maior que 30000 dol = rico, menor que 5000 dol/pessoa = probre)\n",
    "# Utilizando a base de dados do IMF, foi feito uma divisão do gdp do país pelo gdp de Luxemburgo do ano de 2020 (USD 109602). \n",
    "# Os países que se encontraram com porcentagem abaixo de 30% foram consideradas pobres, de 31% a 60%, em desenvolvimento, e acima de 61%, rico.\n",
    "# A divisão categórica foi feita a fim de analizar o efeito da situação econômica na mortalidade de pessoas por suicídio.\n",
    "'''\n",
    "Legenda:\n",
    "    Pobre: 3\n",
    "    Em Desenvolvimento: 2\n",
    "    Rico: 1\n",
    "'''\n",
    "suicidios['classificação econômica'] = np.where((suicidios['gdp_per_capita ($)']/109602)>0.61, 1, \n",
    "    (np.where((suicidios['gdp_per_capita ($)']/109602)<0.3, 3,2)))"
   ]
  },
  {
   "cell_type": "code",
   "execution_count": 7,
   "metadata": {},
   "outputs": [
    {
     "output_type": "execute_result",
     "data": {
      "text/plain": [
       "   country  year     sex          age  suicides_no  population  \\\n",
       "0  Albania  1987    male  15-24 years           21      312900   \n",
       "1  Albania  1987    male  35-54 years           16      308000   \n",
       "2  Albania  1987  female  15-24 years           14      289700   \n",
       "3  Albania  1987    male    75+ years            1       21800   \n",
       "4  Albania  1987    male  25-34 years            9      274300   \n",
       "\n",
       "   suicides/100k pop country-year  HDI for year  gdp_for_year ($)   ...  \\\n",
       "0               6.71  Albania1987           NaN      2,156,624,900  ...   \n",
       "1               5.19  Albania1987           NaN      2,156,624,900  ...   \n",
       "2               4.83  Albania1987           NaN      2,156,624,900  ...   \n",
       "3               4.59  Albania1987           NaN      2,156,624,900  ...   \n",
       "4               3.28  Albania1987           NaN      2,156,624,900  ...   \n",
       "\n",
       "   5-14 years 55-74 years  75+ years  classificação econômica  Boomers  \\\n",
       "0           0           0          0                        3        0   \n",
       "1           0           0          0                        3        0   \n",
       "2           0           0          0                        3        0   \n",
       "3           0           0          1                        3        0   \n",
       "4           0           0          0                        3        1   \n",
       "\n",
       "   G.I. Generation  Generation X  Generation Z  Millenials  Silent  \n",
       "0                0             1             0           0       0  \n",
       "1                0             0             0           0       1  \n",
       "2                0             1             0           0       0  \n",
       "3                1             0             0           0       0  \n",
       "4                0             0             0           0       0  \n",
       "\n",
       "[5 rows x 25 columns]"
      ],
      "text/html": "<div>\n<style scoped>\n    .dataframe tbody tr th:only-of-type {\n        vertical-align: middle;\n    }\n\n    .dataframe tbody tr th {\n        vertical-align: top;\n    }\n\n    .dataframe thead th {\n        text-align: right;\n    }\n</style>\n<table border=\"1\" class=\"dataframe\">\n  <thead>\n    <tr style=\"text-align: right;\">\n      <th></th>\n      <th>country</th>\n      <th>year</th>\n      <th>sex</th>\n      <th>age</th>\n      <th>suicides_no</th>\n      <th>population</th>\n      <th>suicides/100k pop</th>\n      <th>country-year</th>\n      <th>HDI for year</th>\n      <th>gdp_for_year ($)</th>\n      <th>...</th>\n      <th>5-14 years</th>\n      <th>55-74 years</th>\n      <th>75+ years</th>\n      <th>classificação econômica</th>\n      <th>Boomers</th>\n      <th>G.I. Generation</th>\n      <th>Generation X</th>\n      <th>Generation Z</th>\n      <th>Millenials</th>\n      <th>Silent</th>\n    </tr>\n  </thead>\n  <tbody>\n    <tr>\n      <th>0</th>\n      <td>Albania</td>\n      <td>1987</td>\n      <td>male</td>\n      <td>15-24 years</td>\n      <td>21</td>\n      <td>312900</td>\n      <td>6.71</td>\n      <td>Albania1987</td>\n      <td>NaN</td>\n      <td>2,156,624,900</td>\n      <td>...</td>\n      <td>0</td>\n      <td>0</td>\n      <td>0</td>\n      <td>3</td>\n      <td>0</td>\n      <td>0</td>\n      <td>1</td>\n      <td>0</td>\n      <td>0</td>\n      <td>0</td>\n    </tr>\n    <tr>\n      <th>1</th>\n      <td>Albania</td>\n      <td>1987</td>\n      <td>male</td>\n      <td>35-54 years</td>\n      <td>16</td>\n      <td>308000</td>\n      <td>5.19</td>\n      <td>Albania1987</td>\n      <td>NaN</td>\n      <td>2,156,624,900</td>\n      <td>...</td>\n      <td>0</td>\n      <td>0</td>\n      <td>0</td>\n      <td>3</td>\n      <td>0</td>\n      <td>0</td>\n      <td>0</td>\n      <td>0</td>\n      <td>0</td>\n      <td>1</td>\n    </tr>\n    <tr>\n      <th>2</th>\n      <td>Albania</td>\n      <td>1987</td>\n      <td>female</td>\n      <td>15-24 years</td>\n      <td>14</td>\n      <td>289700</td>\n      <td>4.83</td>\n      <td>Albania1987</td>\n      <td>NaN</td>\n      <td>2,156,624,900</td>\n      <td>...</td>\n      <td>0</td>\n      <td>0</td>\n      <td>0</td>\n      <td>3</td>\n      <td>0</td>\n      <td>0</td>\n      <td>1</td>\n      <td>0</td>\n      <td>0</td>\n      <td>0</td>\n    </tr>\n    <tr>\n      <th>3</th>\n      <td>Albania</td>\n      <td>1987</td>\n      <td>male</td>\n      <td>75+ years</td>\n      <td>1</td>\n      <td>21800</td>\n      <td>4.59</td>\n      <td>Albania1987</td>\n      <td>NaN</td>\n      <td>2,156,624,900</td>\n      <td>...</td>\n      <td>0</td>\n      <td>0</td>\n      <td>1</td>\n      <td>3</td>\n      <td>0</td>\n      <td>1</td>\n      <td>0</td>\n      <td>0</td>\n      <td>0</td>\n      <td>0</td>\n    </tr>\n    <tr>\n      <th>4</th>\n      <td>Albania</td>\n      <td>1987</td>\n      <td>male</td>\n      <td>25-34 years</td>\n      <td>9</td>\n      <td>274300</td>\n      <td>3.28</td>\n      <td>Albania1987</td>\n      <td>NaN</td>\n      <td>2,156,624,900</td>\n      <td>...</td>\n      <td>0</td>\n      <td>0</td>\n      <td>0</td>\n      <td>3</td>\n      <td>1</td>\n      <td>0</td>\n      <td>0</td>\n      <td>0</td>\n      <td>0</td>\n      <td>0</td>\n    </tr>\n  </tbody>\n</table>\n<p>5 rows × 25 columns</p>\n</div>"
     },
     "metadata": {},
     "execution_count": 7
    }
   ],
   "source": [
    "# criação de uma dummies para armazenar a geração em formato numérico\n",
    "gen = pd.get_dummies(suicidios['generation'])\n",
    "suicidios = pd.concat([suicidios, gen], axis = 1)\n",
    "suicidios.head()"
   ]
  },
  {
   "cell_type": "code",
   "execution_count": 8,
   "metadata": {},
   "outputs": [
    {
     "output_type": "execute_result",
     "data": {
      "text/plain": [
       "   country  year     sex          age  suicides_no  population  \\\n",
       "0  Albania  1987    male  15-24 years           21      312900   \n",
       "1  Albania  1987    male  35-54 years           16      308000   \n",
       "2  Albania  1987  female  15-24 years           14      289700   \n",
       "3  Albania  1987    male    75+ years            1       21800   \n",
       "4  Albania  1987    male  25-34 years            9      274300   \n",
       "\n",
       "   suicides/100k pop country-year  HDI for year  gdp_for_year ($)   ...  \\\n",
       "0               6.71  Albania1987           NaN      2,156,624,900  ...   \n",
       "1               5.19  Albania1987           NaN      2,156,624,900  ...   \n",
       "2               4.83  Albania1987           NaN      2,156,624,900  ...   \n",
       "3               4.59  Albania1987           NaN      2,156,624,900  ...   \n",
       "4               3.28  Albania1987           NaN      2,156,624,900  ...   \n",
       "\n",
       "   55-74 years 75+ years  classificação econômica  Boomers  G.I. Generation  \\\n",
       "0            0         0                        3        0                0   \n",
       "1            0         0                        3        0                0   \n",
       "2            0         0                        3        0                0   \n",
       "3            0         1                        3        0                1   \n",
       "4            0         0                        3        1                0   \n",
       "\n",
       "   Generation X  Generation Z  Millenials  Silent  sexo  \n",
       "0             1             0           0       0     1  \n",
       "1             0             0           0       1     1  \n",
       "2             1             0           0       0     0  \n",
       "3             0             0           0       0     1  \n",
       "4             0             0           0       0     1  \n",
       "\n",
       "[5 rows x 26 columns]"
      ],
      "text/html": "<div>\n<style scoped>\n    .dataframe tbody tr th:only-of-type {\n        vertical-align: middle;\n    }\n\n    .dataframe tbody tr th {\n        vertical-align: top;\n    }\n\n    .dataframe thead th {\n        text-align: right;\n    }\n</style>\n<table border=\"1\" class=\"dataframe\">\n  <thead>\n    <tr style=\"text-align: right;\">\n      <th></th>\n      <th>country</th>\n      <th>year</th>\n      <th>sex</th>\n      <th>age</th>\n      <th>suicides_no</th>\n      <th>population</th>\n      <th>suicides/100k pop</th>\n      <th>country-year</th>\n      <th>HDI for year</th>\n      <th>gdp_for_year ($)</th>\n      <th>...</th>\n      <th>55-74 years</th>\n      <th>75+ years</th>\n      <th>classificação econômica</th>\n      <th>Boomers</th>\n      <th>G.I. Generation</th>\n      <th>Generation X</th>\n      <th>Generation Z</th>\n      <th>Millenials</th>\n      <th>Silent</th>\n      <th>sexo</th>\n    </tr>\n  </thead>\n  <tbody>\n    <tr>\n      <th>0</th>\n      <td>Albania</td>\n      <td>1987</td>\n      <td>male</td>\n      <td>15-24 years</td>\n      <td>21</td>\n      <td>312900</td>\n      <td>6.71</td>\n      <td>Albania1987</td>\n      <td>NaN</td>\n      <td>2,156,624,900</td>\n      <td>...</td>\n      <td>0</td>\n      <td>0</td>\n      <td>3</td>\n      <td>0</td>\n      <td>0</td>\n      <td>1</td>\n      <td>0</td>\n      <td>0</td>\n      <td>0</td>\n      <td>1</td>\n    </tr>\n    <tr>\n      <th>1</th>\n      <td>Albania</td>\n      <td>1987</td>\n      <td>male</td>\n      <td>35-54 years</td>\n      <td>16</td>\n      <td>308000</td>\n      <td>5.19</td>\n      <td>Albania1987</td>\n      <td>NaN</td>\n      <td>2,156,624,900</td>\n      <td>...</td>\n      <td>0</td>\n      <td>0</td>\n      <td>3</td>\n      <td>0</td>\n      <td>0</td>\n      <td>0</td>\n      <td>0</td>\n      <td>0</td>\n      <td>1</td>\n      <td>1</td>\n    </tr>\n    <tr>\n      <th>2</th>\n      <td>Albania</td>\n      <td>1987</td>\n      <td>female</td>\n      <td>15-24 years</td>\n      <td>14</td>\n      <td>289700</td>\n      <td>4.83</td>\n      <td>Albania1987</td>\n      <td>NaN</td>\n      <td>2,156,624,900</td>\n      <td>...</td>\n      <td>0</td>\n      <td>0</td>\n      <td>3</td>\n      <td>0</td>\n      <td>0</td>\n      <td>1</td>\n      <td>0</td>\n      <td>0</td>\n      <td>0</td>\n      <td>0</td>\n    </tr>\n    <tr>\n      <th>3</th>\n      <td>Albania</td>\n      <td>1987</td>\n      <td>male</td>\n      <td>75+ years</td>\n      <td>1</td>\n      <td>21800</td>\n      <td>4.59</td>\n      <td>Albania1987</td>\n      <td>NaN</td>\n      <td>2,156,624,900</td>\n      <td>...</td>\n      <td>0</td>\n      <td>1</td>\n      <td>3</td>\n      <td>0</td>\n      <td>1</td>\n      <td>0</td>\n      <td>0</td>\n      <td>0</td>\n      <td>0</td>\n      <td>1</td>\n    </tr>\n    <tr>\n      <th>4</th>\n      <td>Albania</td>\n      <td>1987</td>\n      <td>male</td>\n      <td>25-34 years</td>\n      <td>9</td>\n      <td>274300</td>\n      <td>3.28</td>\n      <td>Albania1987</td>\n      <td>NaN</td>\n      <td>2,156,624,900</td>\n      <td>...</td>\n      <td>0</td>\n      <td>0</td>\n      <td>3</td>\n      <td>1</td>\n      <td>0</td>\n      <td>0</td>\n      <td>0</td>\n      <td>0</td>\n      <td>0</td>\n      <td>1</td>\n    </tr>\n  </tbody>\n</table>\n<p>5 rows × 26 columns</p>\n</div>"
     },
     "metadata": {},
     "execution_count": 8
    }
   ],
   "source": [
    "# criação de uma dummies para armazenar o sexo em formato numérico\n",
    "suicidios.loc[suicidios['sex']=='male','sexo'] = 1\n",
    "suicidios.loc[suicidios['sex']=='female','sexo'] = 0\n",
    "#suicidios = pd.concat([suicidios, sexo], axis = 1)\n",
    "suicidios['sexo'] = suicidios['sexo'].astype('int64')\n",
    "suicidios.head()"
   ]
  },
  {
   "cell_type": "code",
   "execution_count": 50,
   "metadata": {},
   "outputs": [
    {
     "output_type": "execute_result",
     "data": {
      "text/plain": [
       "               year   suicides_no    population  suicides/100k pop  \\\n",
       "count  27820.000000  27820.000000  2.782000e+04       27820.000000   \n",
       "mean    2001.258375    242.574407  1.844794e+06          12.816097   \n",
       "std        8.469055    902.047917  3.911779e+06          18.961511   \n",
       "min     1985.000000      0.000000  2.780000e+02           0.000000   \n",
       "25%     1995.000000      3.000000  9.749850e+04           0.920000   \n",
       "50%     2002.000000     25.000000  4.301500e+05           5.990000   \n",
       "75%     2008.000000    131.000000  1.486143e+06          16.620000   \n",
       "max     2016.000000  22338.000000  4.380521e+07         224.970000   \n",
       "\n",
       "       HDI for year  gdp_per_capita ($)   15-24 years   25-34 years  \\\n",
       "count   8364.000000        27820.000000  27820.000000  27820.000000   \n",
       "mean       0.776601        16866.464414      0.166858      0.166858   \n",
       "std        0.093367        18887.576472      0.372856      0.372856   \n",
       "min        0.483000          251.000000      0.000000      0.000000   \n",
       "25%        0.713000         3447.000000      0.000000      0.000000   \n",
       "50%        0.779000         9372.000000      0.000000      0.000000   \n",
       "75%        0.855000        24874.000000      0.000000      0.000000   \n",
       "max        0.944000       126352.000000      1.000000      1.000000   \n",
       "\n",
       "        35-54 years    5-14 years   55-74 years     75+ years  \\\n",
       "count  27820.000000  27820.000000  27820.000000  27820.000000   \n",
       "mean       0.166858      0.165708      0.166858      0.166858   \n",
       "std        0.372856      0.371825      0.372856      0.372856   \n",
       "min        0.000000      0.000000      0.000000      0.000000   \n",
       "25%        0.000000      0.000000      0.000000      0.000000   \n",
       "50%        0.000000      0.000000      0.000000      0.000000   \n",
       "75%        0.000000      0.000000      0.000000      0.000000   \n",
       "max        1.000000      1.000000      1.000000      1.000000   \n",
       "\n",
       "       classificação econômica       Boomers  G.I. Generation  Generation X  \\\n",
       "count             27820.000000  27820.000000     27820.000000  27820.000000   \n",
       "mean                  2.819195      0.179367         0.098634      0.230338   \n",
       "std                   0.439296      0.383667         0.298175      0.421057   \n",
       "min                   1.000000      0.000000         0.000000      0.000000   \n",
       "25%                   3.000000      0.000000         0.000000      0.000000   \n",
       "50%                   3.000000      0.000000         0.000000      0.000000   \n",
       "75%                   3.000000      0.000000         0.000000      0.000000   \n",
       "max                   3.000000      1.000000         1.000000      1.000000   \n",
       "\n",
       "       Generation Z    Millenials        Silent          sexo  \n",
       "count  27820.000000  27820.000000  27820.000000  27820.000000  \n",
       "mean       0.052840      0.210065      0.228756      0.500000  \n",
       "std        0.223717      0.407362      0.420040      0.500009  \n",
       "min        0.000000      0.000000      0.000000      0.000000  \n",
       "25%        0.000000      0.000000      0.000000      0.000000  \n",
       "50%        0.000000      0.000000      0.000000      0.500000  \n",
       "75%        0.000000      0.000000      0.000000      1.000000  \n",
       "max        1.000000      1.000000      1.000000      1.000000  "
      ],
      "text/html": "<div>\n<style scoped>\n    .dataframe tbody tr th:only-of-type {\n        vertical-align: middle;\n    }\n\n    .dataframe tbody tr th {\n        vertical-align: top;\n    }\n\n    .dataframe thead th {\n        text-align: right;\n    }\n</style>\n<table border=\"1\" class=\"dataframe\">\n  <thead>\n    <tr style=\"text-align: right;\">\n      <th></th>\n      <th>year</th>\n      <th>suicides_no</th>\n      <th>population</th>\n      <th>suicides/100k pop</th>\n      <th>HDI for year</th>\n      <th>gdp_per_capita ($)</th>\n      <th>15-24 years</th>\n      <th>25-34 years</th>\n      <th>35-54 years</th>\n      <th>5-14 years</th>\n      <th>55-74 years</th>\n      <th>75+ years</th>\n      <th>classificação econômica</th>\n      <th>Boomers</th>\n      <th>G.I. Generation</th>\n      <th>Generation X</th>\n      <th>Generation Z</th>\n      <th>Millenials</th>\n      <th>Silent</th>\n      <th>sexo</th>\n    </tr>\n  </thead>\n  <tbody>\n    <tr>\n      <th>count</th>\n      <td>27820.000000</td>\n      <td>27820.000000</td>\n      <td>2.782000e+04</td>\n      <td>27820.000000</td>\n      <td>8364.000000</td>\n      <td>27820.000000</td>\n      <td>27820.000000</td>\n      <td>27820.000000</td>\n      <td>27820.000000</td>\n      <td>27820.000000</td>\n      <td>27820.000000</td>\n      <td>27820.000000</td>\n      <td>27820.000000</td>\n      <td>27820.000000</td>\n      <td>27820.000000</td>\n      <td>27820.000000</td>\n      <td>27820.000000</td>\n      <td>27820.000000</td>\n      <td>27820.000000</td>\n      <td>27820.000000</td>\n    </tr>\n    <tr>\n      <th>mean</th>\n      <td>2001.258375</td>\n      <td>242.574407</td>\n      <td>1.844794e+06</td>\n      <td>12.816097</td>\n      <td>0.776601</td>\n      <td>16866.464414</td>\n      <td>0.166858</td>\n      <td>0.166858</td>\n      <td>0.166858</td>\n      <td>0.165708</td>\n      <td>0.166858</td>\n      <td>0.166858</td>\n      <td>2.819195</td>\n      <td>0.179367</td>\n      <td>0.098634</td>\n      <td>0.230338</td>\n      <td>0.052840</td>\n      <td>0.210065</td>\n      <td>0.228756</td>\n      <td>0.500000</td>\n    </tr>\n    <tr>\n      <th>std</th>\n      <td>8.469055</td>\n      <td>902.047917</td>\n      <td>3.911779e+06</td>\n      <td>18.961511</td>\n      <td>0.093367</td>\n      <td>18887.576472</td>\n      <td>0.372856</td>\n      <td>0.372856</td>\n      <td>0.372856</td>\n      <td>0.371825</td>\n      <td>0.372856</td>\n      <td>0.372856</td>\n      <td>0.439296</td>\n      <td>0.383667</td>\n      <td>0.298175</td>\n      <td>0.421057</td>\n      <td>0.223717</td>\n      <td>0.407362</td>\n      <td>0.420040</td>\n      <td>0.500009</td>\n    </tr>\n    <tr>\n      <th>min</th>\n      <td>1985.000000</td>\n      <td>0.000000</td>\n      <td>2.780000e+02</td>\n      <td>0.000000</td>\n      <td>0.483000</td>\n      <td>251.000000</td>\n      <td>0.000000</td>\n      <td>0.000000</td>\n      <td>0.000000</td>\n      <td>0.000000</td>\n      <td>0.000000</td>\n      <td>0.000000</td>\n      <td>1.000000</td>\n      <td>0.000000</td>\n      <td>0.000000</td>\n      <td>0.000000</td>\n      <td>0.000000</td>\n      <td>0.000000</td>\n      <td>0.000000</td>\n      <td>0.000000</td>\n    </tr>\n    <tr>\n      <th>25%</th>\n      <td>1995.000000</td>\n      <td>3.000000</td>\n      <td>9.749850e+04</td>\n      <td>0.920000</td>\n      <td>0.713000</td>\n      <td>3447.000000</td>\n      <td>0.000000</td>\n      <td>0.000000</td>\n      <td>0.000000</td>\n      <td>0.000000</td>\n      <td>0.000000</td>\n      <td>0.000000</td>\n      <td>3.000000</td>\n      <td>0.000000</td>\n      <td>0.000000</td>\n      <td>0.000000</td>\n      <td>0.000000</td>\n      <td>0.000000</td>\n      <td>0.000000</td>\n      <td>0.000000</td>\n    </tr>\n    <tr>\n      <th>50%</th>\n      <td>2002.000000</td>\n      <td>25.000000</td>\n      <td>4.301500e+05</td>\n      <td>5.990000</td>\n      <td>0.779000</td>\n      <td>9372.000000</td>\n      <td>0.000000</td>\n      <td>0.000000</td>\n      <td>0.000000</td>\n      <td>0.000000</td>\n      <td>0.000000</td>\n      <td>0.000000</td>\n      <td>3.000000</td>\n      <td>0.000000</td>\n      <td>0.000000</td>\n      <td>0.000000</td>\n      <td>0.000000</td>\n      <td>0.000000</td>\n      <td>0.000000</td>\n      <td>0.500000</td>\n    </tr>\n    <tr>\n      <th>75%</th>\n      <td>2008.000000</td>\n      <td>131.000000</td>\n      <td>1.486143e+06</td>\n      <td>16.620000</td>\n      <td>0.855000</td>\n      <td>24874.000000</td>\n      <td>0.000000</td>\n      <td>0.000000</td>\n      <td>0.000000</td>\n      <td>0.000000</td>\n      <td>0.000000</td>\n      <td>0.000000</td>\n      <td>3.000000</td>\n      <td>0.000000</td>\n      <td>0.000000</td>\n      <td>0.000000</td>\n      <td>0.000000</td>\n      <td>0.000000</td>\n      <td>0.000000</td>\n      <td>1.000000</td>\n    </tr>\n    <tr>\n      <th>max</th>\n      <td>2016.000000</td>\n      <td>22338.000000</td>\n      <td>4.380521e+07</td>\n      <td>224.970000</td>\n      <td>0.944000</td>\n      <td>126352.000000</td>\n      <td>1.000000</td>\n      <td>1.000000</td>\n      <td>1.000000</td>\n      <td>1.000000</td>\n      <td>1.000000</td>\n      <td>1.000000</td>\n      <td>3.000000</td>\n      <td>1.000000</td>\n      <td>1.000000</td>\n      <td>1.000000</td>\n      <td>1.000000</td>\n      <td>1.000000</td>\n      <td>1.000000</td>\n      <td>1.000000</td>\n    </tr>\n  </tbody>\n</table>\n</div>"
     },
     "metadata": {},
     "execution_count": 50
    }
   ],
   "source": [
    "# Eliminando anomalias\n",
    "suicidios.describe()"
   ]
  },
  {
   "cell_type": "code",
   "execution_count": 9,
   "metadata": {},
   "outputs": [
    {
     "output_type": "stream",
     "name": "stdout",
     "text": [
      "<class 'pandas.core.frame.DataFrame'>\nRangeIndex: 27820 entries, 0 to 27819\nData columns (total 26 columns):\n #   Column                   Non-Null Count  Dtype  \n---  ------                   --------------  -----  \n 0   country                  27820 non-null  object \n 1   year                     27820 non-null  int64  \n 2   sex                      27820 non-null  object \n 3   age                      27820 non-null  object \n 4   suicides_no              27820 non-null  int64  \n 5   population               27820 non-null  int64  \n 6   suicides/100k pop        27820 non-null  float64\n 7   country-year             27820 non-null  object \n 8   HDI for year             8364 non-null   float64\n 9    gdp_for_year ($)        27820 non-null  object \n 10  gdp_per_capita ($)       27820 non-null  int64  \n 11  generation               27820 non-null  object \n 12  15-24 years              27820 non-null  uint8  \n 13  25-34 years              27820 non-null  uint8  \n 14  35-54 years              27820 non-null  uint8  \n 15  5-14 years               27820 non-null  uint8  \n 16  55-74 years              27820 non-null  uint8  \n 17  75+ years                27820 non-null  uint8  \n 18  classificação econômica  27820 non-null  int32  \n 19  Boomers                  27820 non-null  uint8  \n 20  G.I. Generation          27820 non-null  uint8  \n 21  Generation X             27820 non-null  uint8  \n 22  Generation Z             27820 non-null  uint8  \n 23  Millenials               27820 non-null  uint8  \n 24  Silent                   27820 non-null  uint8  \n 25  sexo                     27820 non-null  int64  \ndtypes: float64(2), int32(1), int64(5), object(6), uint8(12)\nmemory usage: 3.2+ MB\n"
     ]
    }
   ],
   "source": [
    "suicidios.info()"
   ]
  },
  {
   "cell_type": "markdown",
   "metadata": {},
   "source": [
    "---\n",
    "---\n",
    "# Multiple Regression\n",
    "\n",
    "Tendo a preparação da base de dados completa, podemos iniciar o estudo da relação das variáveis e assim, prever o número de pessoas a cometer suicídio em um ano."
   ]
  },
  {
   "cell_type": "markdown",
   "metadata": {},
   "source": [
    "---\n",
    "Para iniciar a aplicação, é necessário separar os dados independentes dos dados dependentes.\n",
    "\n",
    "Para isto, \"X\" foi declarado como sendo as variáveis independentes, e \"y\" foi definido como o valor dependente. "
   ]
  },
  {
   "cell_type": "code",
   "execution_count": 10,
   "metadata": {},
   "outputs": [],
   "source": [
    "X = suicidios[['15-24 years', '25-34 years', '35-54 years', '55-74 years', '75+ years', 'classificação econômica', 'Boomers', 'G.I. Generation', 'Generation X', 'Generation Z', 'Millenials', 'Silent', 'sexo']]\n",
    "y = suicidios['suicides_no']\n",
    "\n",
    "#fazer X_train e y_train\n",
    "# Separar o dataset para ser utilizado no teste e no treinamento\n",
    "x_train, x_test, y_train, y_test = train_test_split(X,y)"
   ]
  },
  {
   "cell_type": "code",
   "execution_count": 11,
   "metadata": {},
   "outputs": [
    {
     "output_type": "execute_result",
     "data": {
      "text/plain": [
       "0.0597376183591114"
      ]
     },
     "metadata": {},
     "execution_count": 11
    }
   ],
   "source": [
    "modelo = linear_model.LinearRegression().fit(x_train,y_train)\n",
    "modelo.score(x_train,y_train)"
   ]
  },
  {
   "cell_type": "code",
   "execution_count": 12,
   "metadata": {},
   "outputs": [
    {
     "output_type": "execute_result",
     "data": {
      "text/plain": [
       "0.05812368797584477"
      ]
     },
     "metadata": {},
     "execution_count": 12
    }
   ],
   "source": [
    "modelo.score(x_test,y_test)"
   ]
  },
  {
   "cell_type": "code",
   "execution_count": 13,
   "metadata": {},
   "outputs": [
    {
     "output_type": "stream",
     "name": "stdout",
     "text": [
      "[ 1.35040560e+02  1.65988376e+02  4.21859383e+02  2.51015728e+02\n  2.04829917e+01 -1.52029147e+02 -2.82034660e+15 -2.82034660e+15\n -2.82034660e+15 -2.82034660e+15 -2.82034660e+15 -2.82034660e+15\n  2.66291278e+02]\n"
     ]
    }
   ],
   "source": [
    "print(modelo.coef_)"
   ]
  },
  {
   "cell_type": "markdown",
   "metadata": {},
   "source": [
    "realizar split para separar train e test"
   ]
  },
  {
   "cell_type": "code",
   "execution_count": 14,
   "metadata": {},
   "outputs": [
    {
     "output_type": "execute_result",
     "data": {
      "text/plain": [
       "array([413.])"
      ]
     },
     "metadata": {},
     "execution_count": 14
    }
   ],
   "source": [
    "previsto = modelo.predict([[0,1,0,0,0,2,0,0,0,1,0,0,1]])\n",
    "previsto"
   ]
  },
  {
   "cell_type": "code",
   "execution_count": 15,
   "metadata": {},
   "outputs": [
    {
     "output_type": "execute_result",
     "data": {
      "text/plain": [
       "'\\ninsert graph depois\\n'"
      ]
     },
     "metadata": {},
     "execution_count": 15
    }
   ],
   "source": [
    "'''\n",
    "insert graph depois\n",
    "'''"
   ]
  },
  {
   "source": [
    "---\n",
    "---\n",
    "# Random Forest Regression\n",
    "\n",
    "Continuamos a utilizar o \"X\" e \"y\" do modelo passado e também a separação do dataset de teste e de treino.\n",
    " \n",
    "Descrever como foi implementado"
   ],
   "cell_type": "markdown",
   "metadata": {}
  },
  {
   "cell_type": "code",
   "execution_count": 16,
   "metadata": {},
   "outputs": [
    {
     "output_type": "execute_result",
     "data": {
      "text/plain": [
       "RandomForestRegressor(n_estimators=1000, random_state=0)"
      ]
     },
     "metadata": {},
     "execution_count": 16
    }
   ],
   "source": [
    "#n_estimators = número de árvores que serão criadas para o random forest\n",
    "regressor = RandomForestRegressor(n_estimators = 1000, random_state = 0)\n",
    "regressor.fit(x_train, y_train)"
   ]
  },
  {
   "cell_type": "code",
   "execution_count": 17,
   "metadata": {},
   "outputs": [
    {
     "output_type": "execute_result",
     "data": {
      "text/plain": [
       "array([159.77882175,   6.9849823 , 159.77882175, ..., 783.11100239,\n",
       "       375.98403805, 690.32049621])"
      ]
     },
     "metadata": {},
     "execution_count": 17
    }
   ],
   "source": [
    "y_pred = regressor.predict(x_test)\n",
    "y_pred"
   ]
  },
  {
   "cell_type": "code",
   "execution_count": 18,
   "metadata": {},
   "outputs": [
    {
     "output_type": "execute_result",
     "data": {
      "text/plain": [
       "0.08938305459355622"
      ]
     },
     "metadata": {},
     "execution_count": 18
    }
   ],
   "source": [
    "r2_score(y_test,y_pred)"
   ]
  },
  {
   "source": [
    "---\n",
    "Como pode ser observado na célula anterior, o resultado obtido não é satisfatório, o valor do score é somente 0,101, enquanto que um bom score estaria perto de 1.\n",
    "\n",
    "Para melhorar os resultados do modelo, foi necessário conduzir um hyperparameter tuning. O hyperparameter tuning é feito para ajustar as configurações do algoritmo e assim melhorar sua performance. \n",
    "\n",
    "Normalmente, os parâmetros a serem utilizados são aprendidos durante o treinamento do modelo, mas em hyperparameter tuning, os parâmetros devem ser definidos antes do teste. Alguns destes parâmetros são:\n",
    "- número de árvores a serem criadas\n",
    "- número de recursos que serão considerados para cada árvore quando forem dividir um nó"
   ],
   "cell_type": "markdown",
   "metadata": {}
  },
  {
   "source": [
    "## Aplicando o Hyperparameter Tuning\n",
    "\n",
    "O Hyperparameter Tuning foi utilizado para otimizar o modelo e obter resultados mais precisos. "
   ],
   "cell_type": "markdown",
   "metadata": {}
  },
  {
   "source": [
    "### Um dos métodos utilizados para realizar a busca de parâmetros é através do Random Search Cross Validation\n",
    "\n",
    "O Random Search Cross Validation consegue utilizar parâmetros diferentes gerados em uma tabela com uma variedade de valores de hiperparâmetros, realizando o K-Fold CV com cada combinação de valores.\n",
    "\n",
    "K-Fold CV sendo uma técnica em que os dados de treinamento são divididos em K vezes, que são divididas novamente em dobras. O modelo é, então, ajustado K vezes, cada vez treinando o dado de treino em K-1 das dobras e avaliando sua performance de até Kn. "
   ],
   "cell_type": "markdown",
   "metadata": {}
  },
  {
   "cell_type": "code",
   "execution_count": 20,
   "metadata": {},
   "outputs": [
    {
     "output_type": "execute_result",
     "data": {
      "text/plain": [
       "{'bootstrap': True,\n",
       " 'ccp_alpha': 0.0,\n",
       " 'criterion': 'mse',\n",
       " 'max_depth': None,\n",
       " 'max_features': 'auto',\n",
       " 'max_leaf_nodes': None,\n",
       " 'max_samples': None,\n",
       " 'min_impurity_decrease': 0.0,\n",
       " 'min_impurity_split': None,\n",
       " 'min_samples_leaf': 1,\n",
       " 'min_samples_split': 2,\n",
       " 'min_weight_fraction_leaf': 0.0,\n",
       " 'n_estimators': 1000,\n",
       " 'n_jobs': None,\n",
       " 'oob_score': False,\n",
       " 'random_state': 0,\n",
       " 'verbose': 0,\n",
       " 'warm_start': False}"
      ]
     },
     "metadata": {},
     "execution_count": 20
    }
   ],
   "source": [
    "# Parâmetros que estão sendo utilizados atualmente\n",
    "regressor.get_params()"
   ]
  },
  {
   "source": [
    "Observando a documentação do Random Forest Regressor no Scikit-learn, foi possível diminuir o número de parâmetros significantes para apenas 2:\n",
    "- n_estimators\n",
    "- max_features\n",
    "- max_depth\n",
    "- min_samples_split\n",
    "- min_samples_leaf\n",
    "- boostrap\n",
    "\n"
   ],
   "cell_type": "markdown",
   "metadata": {}
  },
  {
   "cell_type": "code",
   "execution_count": 23,
   "metadata": {},
   "outputs": [
    {
     "output_type": "stream",
     "name": "stdout",
     "text": [
      "{'bootstrap': [True, False],\n 'max_depth': [10, 20, 30, 40, 50, 60, 70, 80, 90, 100, 110, None],\n 'max_features': ['auto', 'sqrt'],\n 'min_samples_leaf': [1, 2, 4],\n 'min_samples_split': [2, 5, 10],\n 'n_estimators': [200, 400, 600, 800, 1000, 1200, 1400, 1600, 1800, 2000]}\n"
     ]
    }
   ],
   "source": [
    "#Criando o Random Hyperparameter Grid para utilizar o RandomizedSearchCV depois\n",
    "# número de árvores\n",
    "n_estimators = [int(x) for x in np.linspace(start = 200, stop = 2000, num = 10)]\n",
    "# número de features a serem consideradas para cada split\n",
    "max_features = ['auto','sqrt']\n",
    "# máximo número de níveis em cada árvore\n",
    "max_depth = [int(x) for x in np.linspace(10, 110, num =11)]\n",
    "max_depth.append(None)\n",
    "# mínimo número de amostras que são exigidos para cada nó\n",
    "min_samples_split = [2, 5, 10]\n",
    "# mínimo número de amostras que são exigidas para cada leaf node\n",
    "min_samples_leaf = [1, 2, 4]\n",
    "# método de selecionamento para treinamento de cada árvore\n",
    "bootstrap = [True, False]\n",
    "\n",
    "#criando o Random Grid\n",
    "random_grid = {'n_estimators' : n_estimators, 'max_features' : max_features, 'max_depth' : max_depth, 'min_samples_split' : min_samples_split, 'min_samples_leaf' : min_samples_leaf, 'bootstrap': bootstrap}\n",
    "\n",
    "pprint(random_grid)"
   ]
  },
  {
   "cell_type": "code",
   "execution_count": 26,
   "metadata": {},
   "outputs": [
    {
     "output_type": "stream",
     "name": "stdout",
     "text": [
      "Fitting 3 folds for each of 100 candidates, totalling 300 fits\n",
      "[Parallel(n_jobs=-1)]: Using backend LokyBackend with 8 concurrent workers.\n",
      "[Parallel(n_jobs=-1)]: Done  25 tasks      | elapsed:  1.0min\n",
      "[Parallel(n_jobs=-1)]: Done 146 tasks      | elapsed:  4.3min\n",
      "[Parallel(n_jobs=-1)]: Done 300 out of 300 | elapsed:  8.9min finished\n"
     ]
    },
    {
     "output_type": "execute_result",
     "data": {
      "text/plain": [
       "RandomizedSearchCV(cv=3, estimator=RandomForestRegressor(), n_iter=100,\n",
       "                   n_jobs=-1,\n",
       "                   param_distributions={'bootstrap': [True, False],\n",
       "                                        'max_depth': [10, 20, 30, 40, 50, 60,\n",
       "                                                      70, 80, 90, 100, 110,\n",
       "                                                      None],\n",
       "                                        'max_features': ['auto', 'sqrt'],\n",
       "                                        'min_samples_leaf': [1, 2, 4],\n",
       "                                        'min_samples_split': [2, 5, 10],\n",
       "                                        'n_estimators': [200, 400, 600, 800,\n",
       "                                                         1000, 1200, 1400, 1600,\n",
       "                                                         1800, 2000]},\n",
       "                   random_state=42, verbose=2)"
      ]
     },
     "metadata": {},
     "execution_count": 26
    }
   ],
   "source": [
    "# Treinando o modelo com o RandomSearchCV\n",
    "novo_regressor = RandomForestRegressor()\n",
    "\n",
    "# Busca por parâmetros randomizada, utilizando 3 dobras\n",
    "# Busca em 100 diferentes combinações\n",
    "regressor_random = RandomizedSearchCV(estimator = novo_regressor, param_distributions = random_grid, n_iter = 100, cv = 3, verbose = 2, random_state = 42, n_jobs = -1)\n",
    "\n",
    "regressor_random.fit(x_train, y_train)"
   ]
  },
  {
   "cell_type": "code",
   "execution_count": 31,
   "metadata": {},
   "outputs": [
    {
     "output_type": "execute_result",
     "data": {
      "text/plain": [
       "{'n_estimators': 1600,\n",
       " 'min_samples_split': 2,\n",
       " 'min_samples_leaf': 4,\n",
       " 'max_features': 'sqrt',\n",
       " 'max_depth': 10,\n",
       " 'bootstrap': True}"
      ]
     },
     "metadata": {},
     "execution_count": 31
    }
   ],
   "source": [
    "# melhores parâmetros a serem utilizados\n",
    "regressor_random.best_params_"
   ]
  },
  {
   "cell_type": "code",
   "execution_count": 33,
   "metadata": {},
   "outputs": [],
   "source": [
    "# Avaliar se os parâmetros utilizados no Random Search foram as melhores para resultarem em um modelo melhor\n",
    "def evaluate(model, test_features, test_labels):\n",
    "    predictions = model.predict(test_features)\n",
    "    errors = abs(predictions - test_labels)\n",
    "    mape = 100 * np.mean(errors / test_labels)\n",
    "    accuracy = 100 - mape\n",
    "    print('Model Performance')\n",
    "    print('Average Error: {:0.4f} degrees.'.format(np.mean(errors)))\n",
    "    print('Accuracy = {:0.2f}%.'.format(accuracy))\n",
    "    return accuracy"
   ]
  },
  {
   "source": [
    "### Avaliar o modelo padrão"
   ],
   "cell_type": "markdown",
   "metadata": {}
  },
  {
   "cell_type": "code",
   "execution_count": 34,
   "metadata": {},
   "outputs": [
    {
     "output_type": "stream",
     "name": "stdout",
     "text": [
      "Model Performance\nAverage Error: 298.8984 degrees.\nAccuracy = -inf%.\n"
     ]
    }
   ],
   "source": [
    "base = RandomForestRegressor(n_estimators = 10, random_state = 42)\n",
    "base.fit(x_train,y_train)\n",
    "base_accuracy = evaluate(base, x_test, y_test)"
   ]
  },
  {
   "source": [
    "### Avaliar o melhor modelo de acordo com o Random Search Model"
   ],
   "cell_type": "markdown",
   "metadata": {}
  },
  {
   "source": [
    "melhor_random = regressor_random.best_estimator_\n",
    "melhor_accuracy = evaluate(melhor_random, x_test, y_test)"
   ],
   "cell_type": "code",
   "metadata": {},
   "execution_count": 35,
   "outputs": [
    {
     "output_type": "stream",
     "name": "stdout",
     "text": [
      "Model Performance\nAverage Error: 299.0399 degrees.\nAccuracy = -inf%.\n"
     ]
    }
   ]
  },
  {
   "cell_type": "code",
   "execution_count": 48,
   "metadata": {},
   "outputs": [
    {
     "output_type": "execute_result",
     "data": {
      "text/plain": [
       "array([157.71303361,   8.48056422, 157.71303361, ..., 779.58826959,\n",
       "       378.73651071, 689.56815513])"
      ]
     },
     "metadata": {},
     "execution_count": 48
    }
   ],
   "source": [
    "melhor_pred = melhor_random.predict(x_test)\n",
    "melhor_pred"
   ]
  },
  {
   "cell_type": "code",
   "execution_count": 49,
   "metadata": {},
   "outputs": [
    {
     "output_type": "execute_result",
     "data": {
      "text/plain": [
       "0.08982204982694131"
      ]
     },
     "metadata": {},
     "execution_count": 49
    }
   ],
   "source": [
    "r2_score(y_test,melhor_pred)"
   ]
  },
  {
   "source": [
    "### Grid Search"
   ],
   "cell_type": "markdown",
   "metadata": {}
  },
  {
   "cell_type": "code",
   "execution_count": 43,
   "metadata": {},
   "outputs": [],
   "source": [
    "# Criar a grade de parâmetros baseado nos resultados do random search\n",
    "param_grade = {\n",
    "    'bootstrap': [True],\n",
    "    'max_depth': [5, 10, 50, 100],\n",
    "    'max_features': [2, 3],\n",
    "    'min_samples_leaf': [3, 4, 5],\n",
    "    'min_samples_split': [2, 10, 12],\n",
    "    'n_estimators': [200, 500, 1000, 2000]\n",
    "}\n",
    "random_forest = RandomForestRegressor(random_state = 42)\n",
    "\n",
    "# Instantiate the grid search model\n",
    "procura_grade = GridSearchCV(estimator = rf, param_grid = param_grade, \n",
    "                          cv = 3, n_jobs = -1, verbose = 2, return_train_score=True)"
   ]
  },
  {
   "cell_type": "code",
   "execution_count": 44,
   "metadata": {},
   "outputs": [
    {
     "output_type": "stream",
     "name": "stdout",
     "text": [
      "Fitting 3 folds for each of 288 candidates, totalling 864 fits\n",
      "[Parallel(n_jobs=-1)]: Using backend LokyBackend with 8 concurrent workers.\n",
      "[Parallel(n_jobs=-1)]: Done  25 tasks      | elapsed:   35.8s\n",
      "[Parallel(n_jobs=-1)]: Done 146 tasks      | elapsed:  2.2min\n",
      "[Parallel(n_jobs=-1)]: Done 349 tasks      | elapsed:  5.5min\n",
      "[Parallel(n_jobs=-1)]: Done 632 tasks      | elapsed: 10.7min\n",
      "[Parallel(n_jobs=-1)]: Done 864 out of 864 | elapsed: 14.9min finished\n"
     ]
    },
    {
     "output_type": "execute_result",
     "data": {
      "text/plain": [
       "GridSearchCV(cv=3, estimator=RandomForestRegressor(random_state=42), n_jobs=-1,\n",
       "             param_grid={'bootstrap': [True], 'max_depth': [5, 10, 50, 100],\n",
       "                         'max_features': [2, 3], 'min_samples_leaf': [3, 4, 5],\n",
       "                         'min_samples_split': [2, 10, 12],\n",
       "                         'n_estimators': [200, 500, 1000, 2000]},\n",
       "             return_train_score=True, verbose=2)"
      ]
     },
     "metadata": {},
     "execution_count": 44
    }
   ],
   "source": [
    "procura_grade.fit(x_train, y_train)"
   ]
  },
  {
   "cell_type": "code",
   "execution_count": 45,
   "metadata": {},
   "outputs": [
    {
     "output_type": "execute_result",
     "data": {
      "text/plain": [
       "{'bootstrap': True,\n",
       " 'max_depth': 10,\n",
       " 'max_features': 2,\n",
       " 'min_samples_leaf': 4,\n",
       " 'min_samples_split': 10,\n",
       " 'n_estimators': 2000}"
      ]
     },
     "metadata": {},
     "execution_count": 45
    }
   ],
   "source": [
    "procura_grade.best_params_"
   ]
  },
  {
   "cell_type": "code",
   "execution_count": 46,
   "metadata": {},
   "outputs": [
    {
     "output_type": "stream",
     "name": "stdout",
     "text": [
      "Model Performance\nAverage Error: 299.1250 degrees.\nAccuracy = -inf%.\n"
     ]
    }
   ],
   "source": [
    "novo_melhor = procura_grade.best_estimator_\n",
    "novo_accuracy = evaluate(novo_melhor, x_test, y_test)"
   ]
  },
  {
   "cell_type": "markdown",
   "metadata": {},
   "source": [
    "# Bibliografia\n",
    "\n",
    "_links utilizados:_\n",
    "\n",
    "- https://www.dataquest.io/blog/tutorial-add-column-pandas-dataframe-based-on-if-else-condition/\n",
    "- https://www.imf.org/en/Publications/WEO/weo-database/2021/April/weo-report?c=512,914,612,614,311,213,911,314,193,122,912,313,419,513,316,913,124,339,638,514,218,963,616,223,516,918,748,618,624,522,622,156,626,628,228,924,233,632,636,634,238,662,960,423,935,128,611,321,243,248,469,253,642,643,939,734,644,819,172,132,646,648,915,134,652,174,328,258,656,654,336,263,268,532,944,176,534,536,429,433,178,436,136,343,158,439,916,664,826,542,967,443,917,544,941,446,666,668,672,946,137,546,674,676,548,556,678,181,867,682,684,273,868,921,948,943,686,688,518,728,836,558,138,196,278,692,694,962,142,449,564,565,283,853,288,293,566,964,182,359,453,968,922,714,862,135,716,456,722,942,718,724,576,936,961,813,726,199,733,184,524,361,362,364,732,366,144,146,463,528,923,738,578,537,742,866,369,744,186,925,869,746,926,466,112,111,298,927,846,299,582,487,474,754,698,&s=NGDPD,PPPGDP,NGDPDPC,PPPPC,&sy=2010&ey=2021&ssm=0&scsm=1&scc=0&ssd=1&ssc=0&sic=1&sort=subject&ds=.&br=1\n",
    "- https://www.w3schools.com/python/python_ml_multiple_regression.asp\n",
    "- https://towardsdatascience.com/the-dummys-guide-to-creating-dummy-variables-f21faddb1d40\n",
    "- https://towardsdatascience.com/hyperparameter-tuning-the-random-forest-in-python-using-scikit-learn-28d2aa77dd74"
   ]
  },
  {
   "cell_type": "code",
   "execution_count": null,
   "metadata": {},
   "outputs": [],
   "source": []
  }
 ],
 "metadata": {
  "kernelspec": {
   "name": "python385jvsc74a57bd04eaf1be304415beee96765ae99c3f893cc8312c7f1196698e6029668e9aeb3e5",
   "display_name": "Python 3.8.5 64-bit ('base': conda)"
  },
  "language_info": {
   "codemirror_mode": {
    "name": "ipython",
    "version": 3
   },
   "file_extension": ".py",
   "mimetype": "text/x-python",
   "name": "python",
   "nbconvert_exporter": "python",
   "pygments_lexer": "ipython3",
   "version": "3.8.5"
  }
 },
 "nbformat": 4,
 "nbformat_minor": 2
}